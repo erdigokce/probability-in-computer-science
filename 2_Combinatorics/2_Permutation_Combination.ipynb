{
  "nbformat": 4,
  "nbformat_minor": 0,
  "metadata": {
    "colab": {
      "name": "2_Permutation_Combination.ipynb",
      "version": "0.3.2",
      "provenance": [],
      "collapsed_sections": [],
      "include_colab_link": true
    },
    "kernelspec": {
      "name": "python3",
      "display_name": "Python 3"
    }
  },
  "cells": [
    {
      "cell_type": "markdown",
      "metadata": {
        "id": "view-in-github",
        "colab_type": "text"
      },
      "source": [
        "<a href=\"https://colab.research.google.com/github/erdigokce/probability-in-computer-science/blob/master/2_Combinatorics/2_Permutation_Combination.ipynb\" target=\"_parent\"><img src=\"https://colab.research.google.com/assets/colab-badge.svg\" alt=\"Open In Colab\"/></a>"
      ]
    },
    {
      "metadata": {
        "id": "RcfuRtHkatpv",
        "colab_type": "text"
      },
      "cell_type": "markdown",
      "source": [
        "# Combination & Permutation"
      ]
    },
    {
      "metadata": {
        "id": "N6HZPirfUzru",
        "colab_type": "code",
        "colab": {}
      },
      "cell_type": "code",
      "source": [
        "import math"
      ],
      "execution_count": 0,
      "outputs": []
    },
    {
      "metadata": {
        "id": "dMuHpmcVa4v3",
        "colab_type": "text"
      },
      "cell_type": "markdown",
      "source": [
        "**Combination Example :** Find the number of rectengles in the given figure below.\n",
        "\n",
        "\n",
        "![Rectangle image](https://github.com/erdigokce/probability-in-computer-science/blob/master/2_Combinatorics/rectangle.png?raw=true)\n",
        "\n",
        "Count of corners : 5 {A, B, C, D, E}\n",
        "\n",
        "In order to identify a rectangle 3 corners should be selected in 5 corners.\n",
        "\n",
        "A set of 3 can be selected from 5 in 10 different way:\n",
        "![Equation of 5 to 3 combination](https://github.com/erdigokce/probability-in-computer-science/blob/master/2_Combinatorics/5_3_comb.JPG?raw=true)\n",
        "\n",
        "Please notice {B, C, D, E} corners while they are in the same line, so they cannot build any rectangles when combined with each other. So, their combination should be extracted from all (in this case 10)"
      ]
    },
    {
      "metadata": {
        "id": "1cehlwZ6zcdu",
        "colab_type": "code",
        "colab": {}
      },
      "cell_type": "code",
      "source": [
        "combinationOfAllCornersTo3 = math.factorial(5) / (math.factorial(3) * math.factorial(5 - 3))"
      ],
      "execution_count": 0,
      "outputs": []
    },
    {
      "metadata": {
        "id": "lM9LAKft0521",
        "colab_type": "text"
      },
      "cell_type": "markdown",
      "source": [
        "Please notice {B, C, D, E} corners while they are in the same line, so they cannot build any rectangles with each other. So, their combination should be extracted from all (in this case 10).\n",
        "​\n",
        "A set of 3 can be selected from 4 in 4 different way:\n",
        "![Equation of 4 to 3 combination](https://github.com/erdigokce/probability-in-computer-science/blob/master/2_Combinatorics/4_3_comb.JPG?raw=true)"
      ]
    },
    {
      "metadata": {
        "id": "dWTWNSG80tW3",
        "colab_type": "code",
        "colab": {}
      },
      "cell_type": "code",
      "source": [
        "combinationOfCornersSameLinedTo3 = math.factorial(4) / (math.factorial(3) * math.factorial(4 - 3))"
      ],
      "execution_count": 0,
      "outputs": []
    },
    {
      "metadata": {
        "id": "UWiJEpJh1H6e",
        "colab_type": "text"
      },
      "cell_type": "markdown",
      "source": [
        "So same-lined corners should be substracted from all."
      ]
    },
    {
      "metadata": {
        "id": "BqcuTdDT1Ryx",
        "colab_type": "code",
        "outputId": "8312b19d-dcf6-4ecf-83a5-7dde8bbf99b6",
        "colab": {
          "base_uri": "https://localhost:8080/",
          "height": 34
        }
      },
      "cell_type": "code",
      "source": [
        "print(str(int(combinationOfAllCornersTo3 - combinationOfCornersSameLinedTo3)) + \" rectangle(s) exist in the figure.\")"
      ],
      "execution_count": 12,
      "outputs": [
        {
          "output_type": "stream",
          "text": [
            "6 rectangle(s) exist in the figure.\n"
          ],
          "name": "stdout"
        }
      ]
    }
  ]
}