{
  "nbformat": 4,
  "nbformat_minor": 0,
  "metadata": {
    "colab": {
      "name": "5_ConditionalProbabilityAndBayesianTheorem.ipynb",
      "version": "0.3.2",
      "provenance": [],
      "include_colab_link": true
    },
    "kernelspec": {
      "name": "python3",
      "display_name": "Python 3"
    }
  },
  "cells": [
    {
      "cell_type": "markdown",
      "metadata": {
        "id": "view-in-github",
        "colab_type": "text"
      },
      "source": [
        "<a href=\"https://colab.research.google.com/github/erdigokce/probability-in-computer-science/blob/master/5_ConditionalProbabilityAndBayesianTheorem/5_ConditionalProbabilityAndBayesianTheorem.ipynb\" target=\"_parent\"><img src=\"https://colab.research.google.com/assets/colab-badge.svg\" alt=\"Open In Colab\"/></a>"
      ]
    },
    {
      "metadata": {
        "id": "r1ltPkQpY7P_",
        "colab_type": "text"
      },
      "cell_type": "markdown",
      "source": [
        "# Conditional Probability And Bayesian Theorem\n",
        "\n",
        "Below there is a training data set of weather and corresponding target variable ‘Play’ (suggesting possibilities of playing). The target is to classify whether players will play or not based on weather condition."
      ]
    },
    {
      "metadata": {
        "id": "QaO2s3ofY1Jf",
        "colab_type": "code",
        "colab": {}
      },
      "cell_type": "code",
      "source": [
        "dataset = [(\"Sunny\", False), (\"Overcast\", True), (\"Rainy\", True), (\"Sunny\", True), (\"Sunny\", True), (\"Overcast\", True), (\"Rainy\", False), (\"Rainy\", False), (\"Sunny\", True), (\"Rainy\", True), (\"Sunny\", False), (\"Overcast\", True), (\"Overcast\", True), (\"Rainy\", False)]"
      ],
      "execution_count": 0,
      "outputs": []
    },
    {
      "metadata": {
        "id": "Vh52DRExeJ_S",
        "colab_type": "text"
      },
      "cell_type": "markdown",
      "source": [
        "\n",
        "**Table of playing tennis in weather conditions**\n",
        "\n",
        "| Weather  \t| Playing? \t|\n",
        "|----------\t|----------\t|\n",
        "| Sunny    \t| No       \t|\n",
        "| Overcast \t| Yes      \t|\n",
        "| Rainy    \t| Yes      \t|\n",
        "| Sunny    \t| Yes      \t|\n",
        "| Sunny    \t| Yes      \t|\n",
        "| Overcast \t| Yes      \t|\n",
        "| Rainy    \t| No       \t|\n",
        "| Rainy    \t| No       \t|\n",
        "| Sunny    \t| Yes      \t|\n",
        "| Rainy    \t| Yes      \t|\n",
        "| Sunny    \t| No       \t|\n",
        "| Overcast \t| Yes      \t|\n",
        "| Overcast \t| Yes      \t|\n",
        "| Rainy    \t| No       \t|"
      ]
    },
    {
      "metadata": {
        "id": "NNF9ivvieURA",
        "colab_type": "code",
        "colab": {}
      },
      "cell_type": "code",
      "source": [
        "grouped_by_feature = {\"Grand Total\" : {\"Yes\": 0, \"No\": 0}}\n",
        "for weather, is_played in dataset:\n",
        "  if weather not in grouped_by_feature:\n",
        "    grouped_by_feature[weather] = {\"Yes\": 0, \"No\": 0}\n",
        "  if is_played:\n",
        "    grouped_by_feature[weather][\"Yes\"] = grouped_by_feature[weather][\"Yes\"] + 1\n",
        "    grouped_by_feature[\"Grand Total\"][\"Yes\"] = grouped_by_feature[\"Grand Total\"][\"Yes\"] + 1\n",
        "  else:\n",
        "    grouped_by_feature[weather][\"No\"] = grouped_by_feature[weather][\"No\"] + 1\n",
        "    grouped_by_feature[\"Grand Total\"][\"No\"] = grouped_by_feature[\"Grand Total\"][\"No\"] + 1"
      ],
      "execution_count": 0,
      "outputs": []
    },
    {
      "metadata": {
        "id": "TbYllHf6eQr4",
        "colab_type": "text"
      },
      "cell_type": "markdown",
      "source": [
        "**Frequency Table**\n",
        "\n",
        "| Weather         \t| No \t| Yes \t|\n",
        "|-----------------\t|----\t|-----\t|\n",
        "| Sunny           \t| 2  \t| 3   \t|\n",
        "| Overcast        \t|    \t| 4   \t|\n",
        "| Rainy           \t| 3  \t| 2   \t|\n",
        "| Grand Total     \t| 5  \t| 9   \t|"
      ]
    },
    {
      "metadata": {
        "id": "ybL0WHv3l_XP",
        "colab_type": "text"
      },
      "cell_type": "markdown",
      "source": [
        "After these steps it is possible to calculate probabilities of playing tennis based on weather conditions over total 14 of data."
      ]
    },
    {
      "metadata": {
        "id": "AqHbIZq0muVM",
        "colab_type": "text"
      },
      "cell_type": "markdown",
      "source": [
        "**Problem : ** Calculate the probability of playing tennis if the weather is sunny.\n",
        "\n",
        "* **P(c|x)** is the posterior probability of class (c, target) given predictor (x, attributes).\n",
        "* **P(c) **is the prior probability of class.\n",
        "* **P(x|c)** is the likelihood which is the probability of predictor given class.\n",
        "* **P(x)** is the prior probability of predictor.\n",
        "\n",
        "![Bayesian Formula](https://www.analyticsvidhya.com/wp-content/uploads/2015/09/Bayes_rule-300x172-300x172.png)\n",
        "\n",
        "For this particular problem the formula turns into the following:\n",
        "\n",
        "`P(Yes | Sunny) = P( Sunny | Yes) * P(Yes) / P (Sunny)`"
      ]
    },
    {
      "metadata": {
        "id": "02jdRrlvnCXF",
        "colab_type": "code",
        "colab": {
          "base_uri": "https://localhost:8080/",
          "height": 34
        },
        "outputId": "771dbd36-eb95-431c-e7dc-5435be569c03"
      },
      "cell_type": "code",
      "source": [
        "prob_of_sunny = (grouped_by_feature[\"Sunny\"][\"Yes\"] + grouped_by_feature[\"Sunny\"][\"No\"]) / float(grouped_by_feature[\"Grand Total\"][\"Yes\"] + grouped_by_feature[\"Grand Total\"][\"No\"])\n",
        "print(\"P(Sunny) : \" + str(100 * prob_of_sunny) + \"%\")"
      ],
      "execution_count": 34,
      "outputs": [
        {
          "output_type": "stream",
          "text": [
            "P(Sunny) : 35.714285714285715%\n"
          ],
          "name": "stdout"
        }
      ]
    },
    {
      "metadata": {
        "id": "jvo2OfVRphJI",
        "colab_type": "code",
        "colab": {
          "base_uri": "https://localhost:8080/",
          "height": 34
        },
        "outputId": "6ded7607-73b3-4ef9-977e-20388b3beb92"
      },
      "cell_type": "code",
      "source": [
        "prob_of_yes = grouped_by_feature[\"Grand Total\"][\"Yes\"] / float(grouped_by_feature[\"Grand Total\"][\"Yes\"] + grouped_by_feature[\"Grand Total\"][\"No\"])\n",
        "print(\"P(Yes) : \" + str(100 * prob_of_yes) + \"%\")"
      ],
      "execution_count": 35,
      "outputs": [
        {
          "output_type": "stream",
          "text": [
            "P(Yes) : 64.28571428571429%\n"
          ],
          "name": "stdout"
        }
      ]
    },
    {
      "metadata": {
        "id": "rS8vjR8wpsF7",
        "colab_type": "code",
        "colab": {
          "base_uri": "https://localhost:8080/",
          "height": 34
        },
        "outputId": "ce372081-3dd7-473e-bada-a70b46d23fda"
      },
      "cell_type": "code",
      "source": [
        "prob_of_sunny_when_yes = grouped_by_feature[\"Sunny\"][\"Yes\"] / grouped_by_feature[\"Grand Total\"][\"Yes\"]\n",
        "print(\"P(Sunny | Yes) : \" + str(100 * prob_of_sunny_when_yes) + \"%\")"
      ],
      "execution_count": 36,
      "outputs": [
        {
          "output_type": "stream",
          "text": [
            "P(Sunny | Yes) : 33.33333333333333%\n"
          ],
          "name": "stdout"
        }
      ]
    },
    {
      "metadata": {
        "id": "ZA94mwUNrI1E",
        "colab_type": "code",
        "colab": {
          "base_uri": "https://localhost:8080/",
          "height": 34
        },
        "outputId": "34da4928-01a6-4b0a-d4b6-7234b368e305"
      },
      "cell_type": "code",
      "source": [
        "prob_of_yes_when_sunny = prob_of_sunny_when_yes * prob_of_yes / prob_of_sunny\n",
        "print(\"P(Yes | Sunny) : \" + str(100 * prob_of_yes_when_sunny) + \"%\")"
      ],
      "execution_count": 37,
      "outputs": [
        {
          "output_type": "stream",
          "text": [
            "P(Yes | Sunny) : 60.0%\n"
          ],
          "name": "stdout"
        }
      ]
    },
    {
      "metadata": {
        "id": "QFSEOBeisOrO",
        "colab_type": "text"
      },
      "cell_type": "markdown",
      "source": [
        "\n",
        "\n",
        "---\n",
        "\n",
        "\n",
        "*This example is cited from [6 Easy Steps to Learn Naive Bayes Algorithm](https://www.analyticsvidhya.com/blog/2017/09/naive-bayes-explained/)*"
      ]
    }
  ]
}