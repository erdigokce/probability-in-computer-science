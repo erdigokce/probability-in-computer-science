{
  "nbformat": 4,
  "nbformat_minor": 0,
  "metadata": {
    "colab": {
      "name": "05_ConditionalProbabilityAndBayesianTheorem.ipynb",
      "version": "0.3.2",
      "provenance": [],
      "include_colab_link": true
    },
    "kernelspec": {
      "name": "python3",
      "display_name": "Python 3"
    }
  },
  "cells": [
    {
      "cell_type": "markdown",
      "metadata": {
        "id": "view-in-github",
        "colab_type": "text"
      },
      "source": [
        "<a href=\"https://colab.research.google.com/github/erdigokce/probability-in-computer-science/blob/master/05_ConditionalProbabilityAndBayesianTheorem/05_ConditionalProbabilityAndBayesianTheorem.ipynb\" target=\"_parent\"><img src=\"https://colab.research.google.com/assets/colab-badge.svg\" alt=\"Open In Colab\"/></a>"
      ]
    },
    {
      "metadata": {
        "id": "r1ltPkQpY7P_",
        "colab_type": "text"
      },
      "cell_type": "markdown",
      "source": [
        "# Conditional Probability And Bayesian Theorem\n",
        "\n",
        "Below there is a training data set of weather and corresponding target variable ‘Play’ (suggesting possibilities of playing). The target is to classify whether players will play or not based on weather condition."
      ]
    },
    {
      "metadata": {
        "id": "QaO2s3ofY1Jf",
        "colab_type": "code",
        "colab": {}
      },
      "cell_type": "code",
      "source": [
        "dataset = [(\"Sunny\", False), (\"Overcast\", True), (\"Rainy\", True), (\"Sunny\", True), (\"Sunny\", True), (\"Overcast\", True), (\"Rainy\", False), (\"Rainy\", False), (\"Sunny\", True), (\"Rainy\", True), (\"Sunny\", False), (\"Overcast\", True), (\"Overcast\", True), (\"Rainy\", False)]"
      ],
      "execution_count": 0,
      "outputs": []
    },
    {
      "metadata": {
        "id": "Vh52DRExeJ_S",
        "colab_type": "text"
      },
      "cell_type": "markdown",
      "source": [
        "\n",
        "**Table of playing tennis in weather conditions**\n",
        "\n",
        "| Weather  \t| Playing? \t|\n",
        "|----------\t|----------\t|\n",
        "| Sunny    \t| No       \t|\n",
        "| Overcast \t| Yes      \t|\n",
        "| Rainy    \t| Yes      \t|\n",
        "| Sunny    \t| Yes      \t|\n",
        "| Sunny    \t| Yes      \t|\n",
        "| Overcast \t| Yes      \t|\n",
        "| Rainy    \t| No       \t|\n",
        "| Rainy    \t| No       \t|\n",
        "| Sunny    \t| Yes      \t|\n",
        "| Rainy    \t| Yes      \t|\n",
        "| Sunny    \t| No       \t|\n",
        "| Overcast \t| Yes      \t|\n",
        "| Overcast \t| Yes      \t|\n",
        "| Rainy    \t| No       \t|"
      ]
    },
    {
      "metadata": {
        "id": "NNF9ivvieURA",
        "colab_type": "code",
        "colab": {
          "base_uri": "https://localhost:8080/",
          "height": 34
        },
        "outputId": "b0c0a7fd-15aa-433f-fe94-bb5c030f9185"
      },
      "cell_type": "code",
      "source": [
        "grouped_by_feature = {}\n",
        "for weather, is_played in dataset:\n",
        "  if weather not in grouped_by_feature:\n",
        "    grouped_by_feature[weather] = {\"Yes\": 0, \"No\": 0}\n",
        "  if is_played:\n",
        "    grouped_by_feature[weather][\"Yes\"] = grouped_by_feature[weather][\"Yes\"] + 1\n",
        "  else:\n",
        "    grouped_by_feature[weather][\"No\"] = grouped_by_feature[weather][\"No\"] + 1"
      ],
      "execution_count": 10,
      "outputs": [
        {
          "output_type": "stream",
          "text": [
            "{'Sunny': {'Yes': 3, 'No': 2}, 'Overcast': {'Yes': 4, 'No': 0}, 'Rainy': {'Yes': 2, 'No': 3}}\n"
          ],
          "name": "stdout"
        }
      ]
    },
    {
      "metadata": {
        "id": "TbYllHf6eQr4",
        "colab_type": "text"
      },
      "cell_type": "markdown",
      "source": [
        "**Frequency Table**\n",
        "\n",
        "| Weather         \t| No \t| Yes \t|\n",
        "|-----------------\t|----\t|-----\t|\n",
        "| Sunny           \t| 2  \t| 3   \t|\n",
        "| Overcast        \t|    \t| 4   \t|\n",
        "| Rainy           \t| 3  \t| 2   \t|\n",
        "| Grand Total     \t| 5  \t| 9   \t|"
      ]
    }
  ]
}