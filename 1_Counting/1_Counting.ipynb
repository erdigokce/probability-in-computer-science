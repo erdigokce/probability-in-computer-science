{
  "nbformat": 4,
  "nbformat_minor": 0,
  "metadata": {
    "colab": {
      "name": "1_Counting.ipynb",
      "version": "0.3.2",
      "provenance": [],
      "collapsed_sections": [],
      "include_colab_link": true
    },
    "kernelspec": {
      "name": "python3",
      "display_name": "Python 3"
    }
  },
  "cells": [
    {
      "cell_type": "markdown",
      "metadata": {
        "id": "view-in-github",
        "colab_type": "text"
      },
      "source": [
        "<a href=\"https://colab.research.google.com/github/erdigokce/probability-in-computer-science/blob/master/1_Counting/1_Counting.ipynb\" target=\"_parent\"><img src=\"https://colab.research.google.com/assets/colab-badge.svg\" alt=\"Open In Colab\"/></a>"
      ]
    },
    {
      "metadata": {
        "id": "0Lt9DwARU7c1",
        "colab_type": "text"
      },
      "cell_type": "markdown",
      "source": [
        "# Report of Pigeonhole Principle\n",
        "\n",
        "This program determines that at least 6 of the visitors came from same city in a website which has 412 monthly visitors from Turkey.\n",
        "\n",
        "## Implementation\n",
        "\n",
        "In order to use *ceil* function **math** library is imported."
      ]
    },
    {
      "metadata": {
        "id": "yCAUJCzUU34d",
        "colab_type": "code",
        "colab": {}
      },
      "cell_type": "code",
      "source": [
        "import math"
      ],
      "execution_count": 0,
      "outputs": []
    },
    {
      "metadata": {
        "id": "BbtoC9SDVDgU",
        "colab_type": "text"
      },
      "cell_type": "markdown",
      "source": [
        "**412** : total number of monthly visitors from Turkey (*pigeons*)"
      ]
    },
    {
      "metadata": {
        "id": "NKpMTaCrVEoT",
        "colab_type": "code",
        "colab": {}
      },
      "cell_type": "code",
      "source": [
        "NUMBER_OF_MONTHLY_VISITORS = 412.0"
      ],
      "execution_count": 0,
      "outputs": []
    },
    {
      "metadata": {
        "id": "Vw9qoigTVI-l",
        "colab_type": "text"
      },
      "cell_type": "markdown",
      "source": [
        "**81** : total number of cities of Turkey (*pigeonholes*)"
      ]
    },
    {
      "metadata": {
        "id": "Qo0PdiHnVOKp",
        "colab_type": "code",
        "colab": {}
      },
      "cell_type": "code",
      "source": [
        "NUMBER_OF_CITIES_IN_TURKEY = 81"
      ],
      "execution_count": 0,
      "outputs": []
    },
    {
      "metadata": {
        "id": "rvO0hJP3VREl",
        "colab_type": "text"
      },
      "cell_type": "markdown",
      "source": [
        "Output :"
      ]
    },
    {
      "metadata": {
        "id": "NzOzwxCaVSsm",
        "colab_type": "code",
        "colab": {
          "base_uri": "https://localhost:8080/",
          "height": 34
        },
        "outputId": "57dd86e9-c167-4645-de18-97e4e7fa4629"
      },
      "cell_type": "code",
      "source": [
        "print('At least ' + str(int(math.ceil(NUMBER_OF_MONTHLY_VISITORS / NUMBER_OF_CITIES_IN_TURKEY))) + ' of the visitors hit the website from same city.')"
      ],
      "execution_count": 5,
      "outputs": [
        {
          "output_type": "stream",
          "text": [
            "At least 6 of the visitors hit the website from same city.\n"
          ],
          "name": "stdout"
        }
      ]
    }
  ]
}