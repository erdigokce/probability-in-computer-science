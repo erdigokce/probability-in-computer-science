{
  "nbformat": 4,
  "nbformat_minor": 0,
  "metadata": {
    "colab": {
      "name": "7_RandomVariablesAndDistributions.ipynb",
      "version": "0.3.2",
      "provenance": [],
      "include_colab_link": true
    },
    "kernelspec": {
      "name": "python3",
      "display_name": "Python 3"
    }
  },
  "cells": [
    {
      "cell_type": "markdown",
      "metadata": {
        "id": "view-in-github",
        "colab_type": "text"
      },
      "source": [
        "<a href=\"https://colab.research.google.com/github/erdigokce/probability-in-computer-science/blob/master/7_RandomVariablesAndDistributions/7_RandomVariablesAndDistributions.ipynb\" target=\"_parent\"><img src=\"https://colab.research.google.com/assets/colab-badge.svg\" alt=\"Open In Colab\"/></a>"
      ]
    },
    {
      "metadata": {
        "id": "LEDpIEFT0NW7",
        "colab_type": "text"
      },
      "cell_type": "markdown",
      "source": [
        "# Probability Mass Function\n",
        "\n",
        "Also known as \"Frequency Function\". Provides the probabilities of discrete random variables.\n",
        "\n",
        "Can be represented as a function, table or graph. Histogram is a graph of PMF."
      ]
    },
    {
      "metadata": {
        "id": "pAPmFAQi0ty8",
        "colab_type": "text"
      },
      "cell_type": "markdown",
      "source": [
        "**Example:**\n",
        "Test scores from a class are given as in the table below. Plot its graph. \n",
        "\n",
        "| Students | Score Range |\n",
        "|----------------|--------------|\n",
        "| 5 | 20-29|\n",
        "| 10 | 70-80 |\n",
        "| 20 | 80-90 |\n",
        "| 15 | 90-100 |"
      ]
    },
    {
      "metadata": {
        "id": "u9NRs9EzzqBw",
        "colab_type": "code",
        "colab": {
          "base_uri": "https://localhost:8080/",
          "height": 198
        },
        "outputId": "04a451be-43c8-49b0-f400-6a0d1a58e33f"
      },
      "cell_type": "code",
      "source": [
        "scores_by_students = [(5, 20), (10, 70), (20, 80), (15, 90)]\n",
        "total_students = sum([x[0] for x in scores_by_students])\n",
        "normalized = [(x[0] / total_students, x[1]) for x in scores_by_students]\n",
        "hist(normalized, bins=10)"
      ],
      "execution_count": 12,
      "outputs": [
        {
          "output_type": "error",
          "ename": "NameError",
          "evalue": "ignored",
          "traceback": [
            "\u001b[0;31m---------------------------------------------------------------------------\u001b[0m",
            "\u001b[0;31mNameError\u001b[0m                                 Traceback (most recent call last)",
            "\u001b[0;32m<ipython-input-12-3fa694fe43d1>\u001b[0m in \u001b[0;36m<module>\u001b[0;34m()\u001b[0m\n\u001b[1;32m      2\u001b[0m \u001b[0mtotal_students\u001b[0m \u001b[0;34m=\u001b[0m \u001b[0msum\u001b[0m\u001b[0;34m(\u001b[0m\u001b[0;34m[\u001b[0m\u001b[0mx\u001b[0m\u001b[0;34m[\u001b[0m\u001b[0;36m0\u001b[0m\u001b[0;34m]\u001b[0m \u001b[0;32mfor\u001b[0m \u001b[0mx\u001b[0m \u001b[0;32min\u001b[0m \u001b[0mscores_by_students\u001b[0m\u001b[0;34m]\u001b[0m\u001b[0;34m)\u001b[0m\u001b[0;34m\u001b[0m\u001b[0;34m\u001b[0m\u001b[0m\n\u001b[1;32m      3\u001b[0m \u001b[0mnormalized\u001b[0m \u001b[0;34m=\u001b[0m \u001b[0;34m[\u001b[0m\u001b[0;34m(\u001b[0m\u001b[0mx\u001b[0m\u001b[0;34m[\u001b[0m\u001b[0;36m0\u001b[0m\u001b[0;34m]\u001b[0m \u001b[0;34m/\u001b[0m \u001b[0mtotal_students\u001b[0m\u001b[0;34m,\u001b[0m \u001b[0mx\u001b[0m\u001b[0;34m[\u001b[0m\u001b[0;36m1\u001b[0m\u001b[0;34m]\u001b[0m\u001b[0;34m)\u001b[0m \u001b[0;32mfor\u001b[0m \u001b[0mx\u001b[0m \u001b[0;32min\u001b[0m \u001b[0mscores_by_students\u001b[0m\u001b[0;34m]\u001b[0m\u001b[0;34m\u001b[0m\u001b[0;34m\u001b[0m\u001b[0m\n\u001b[0;32m----> 4\u001b[0;31m \u001b[0mhist\u001b[0m\u001b[0;34m(\u001b[0m\u001b[0mnormalized\u001b[0m\u001b[0;34m,\u001b[0m \u001b[0mbins\u001b[0m\u001b[0;34m=\u001b[0m\u001b[0;36m10\u001b[0m\u001b[0;34m)\u001b[0m\u001b[0;34m\u001b[0m\u001b[0;34m\u001b[0m\u001b[0m\n\u001b[0m",
            "\u001b[0;31mNameError\u001b[0m: name 'hist' is not defined"
          ]
        }
      ]
    },
    {
      "metadata": {
        "id": "CiCkh_bP0n0U",
        "colab_type": "text"
      },
      "cell_type": "markdown",
      "source": [
        "Source : https://www.statisticshowto.datasciencecentral.com/probability-mass-function-pmf/"
      ]
    }
  ]
}