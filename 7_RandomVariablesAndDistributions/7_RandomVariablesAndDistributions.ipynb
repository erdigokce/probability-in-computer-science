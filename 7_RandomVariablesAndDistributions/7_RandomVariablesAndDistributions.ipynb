{
  "nbformat": 4,
  "nbformat_minor": 0,
  "metadata": {
    "colab": {
      "name": "7_RandomVariablesAndDistributions.ipynb",
      "version": "0.3.2",
      "provenance": [],
      "include_colab_link": true
    },
    "kernelspec": {
      "name": "python3",
      "display_name": "Python 3"
    }
  },
  "cells": [
    {
      "cell_type": "markdown",
      "metadata": {
        "id": "view-in-github",
        "colab_type": "text"
      },
      "source": [
        "<a href=\"https://colab.research.google.com/github/erdigokce/probability-in-computer-science/blob/master/7_RandomVariablesAndDistributions/7_RandomVariablesAndDistributions.ipynb\" target=\"_parent\"><img src=\"https://colab.research.google.com/assets/colab-badge.svg\" alt=\"Open In Colab\"/></a>"
      ]
    },
    {
      "cell_type": "markdown",
      "metadata": {
        "id": "LEDpIEFT0NW7",
        "colab_type": "text"
      },
      "source": [
        "# Probability Mass Function\n",
        "\n",
        "Also known as \"Frequency Function\". Provides the probabilities of discrete random variables.\n",
        "\n",
        "Can be represented as a function, table or graph. Histogram is a graph of PMF."
      ]
    },
    {
      "cell_type": "code",
      "metadata": {
        "id": "VCGzC2eJ340V",
        "colab_type": "code",
        "colab": {}
      },
      "source": [
        "import matplotlib.pyplot as plt; plt.rcdefaults()\n",
        "import numpy as np\n",
        "import matplotlib.pyplot as plt\n",
        "import pandas as pd"
      ],
      "execution_count": 0,
      "outputs": []
    },
    {
      "cell_type": "markdown",
      "metadata": {
        "id": "pAPmFAQi0ty8",
        "colab_type": "text"
      },
      "source": [
        "**Example:**\n",
        "\n",
        "Test scores of a list of students are given as in the table below. \n",
        "\n",
        "Plot its *histogram* (a.k.a ***frequency table*** or ***probability mass function***). \n",
        "\n",
        "| Student  | Score |\n",
        "|----------|-------|\n",
        "| Can      | 20    |\n",
        "| Kasım    | 24    |\n",
        "| Yeliz    | 22    |\n",
        "|... | ... |\n",
        "| Furkan   | 86    |\n",
        "| Onur     | 82    |\n",
        "| Rıdvan   | 61    |"
      ]
    },
    {
      "cell_type": "code",
      "metadata": {
        "id": "Whc0W35mHsKS",
        "colab_type": "code",
        "colab": {}
      },
      "source": [
        "student_score_table = [('Can', 20 ),('Kasım', 24 ),('Yeliz', 22 ),('Sema', 77 ),('Yusuf', 73 ),('Leyla', 79 ),('Şemsi', 74 ),('Kısmet', 70 ),('Hülya', 85 ),('Züleyha', 33 ),('Hasan', 56 ),('Kerim', 25 ),('Mustafa', 88 ),('Utku', 86 ),('Füsun', 96 ),('Fatih', 34 ),('Anıl', 22 ),('Bora', 21 ),('Kübra', 28 ),('Tuğba', 28 ),('Seda', 70 ),('Müzeyyen', 59 ),('Tolga', 90 ),('Volkan', 89 ),('Çetin', 98 ),('Umut', 78 ),('Ayhan', 43 ),('Zeynep', 34 ),('Duygu', 96 ),('İlayda', 96 ),('Sevilay', 61 ),('Kadir', 62 ),('Elif', 93 ),('Hilal', 93 ),('Gökçe', 95 ),('Murat', 25 ),('Medine', 56 ),('Hatice', 20 ),('Mesut', 21 ),('Sevim', 60 ),('Zekiye', 86 ),('Polat', 70 ),('Yavuz', 79 ),('Ülker', 78 ),('Esra', 74 ),('Esma', 71 ),('Berkay', 81 ),('Furkan', 86 ),('Onur', 82 ),('Rıdvan', 61 )]"
      ],
      "execution_count": 0,
      "outputs": []
    },
    {
      "cell_type": "markdown",
      "metadata": {
        "id": "_KHU97qaGhYa",
        "colab_type": "text"
      },
      "source": [
        "**Frequency Table**\n",
        "\n",
        "Table of count of students in the range of test scores.\n",
        "\n",
        "| Score Range | Count of Student |\n",
        "|-------------|------------------|\n",
        "| 20-29       | 11               |\n",
        "| 30-39       | 3                |\n",
        "| 40-49       | 1                |\n",
        "| 50-59       | 3                |\n",
        "| 60-69       | 4                |\n",
        "| 70-79       | 12               |\n",
        "| 80-89       | 8                |\n",
        "| 90-100       | 8                |\n",
        "| Grand Total | 50               |"
      ]
    },
    {
      "cell_type": "markdown",
      "metadata": {
        "id": "hWtavjUOWTkt",
        "colab_type": "text"
      },
      "source": [
        "The code in the below unzips the students and scores as separate collections.  "
      ]
    },
    {
      "cell_type": "code",
      "metadata": {
        "id": "u9NRs9EzzqBw",
        "colab_type": "code",
        "colab": {}
      },
      "source": [
        "students, scores = zip(*student_score_table)"
      ],
      "execution_count": 0,
      "outputs": []
    },
    {
      "cell_type": "markdown",
      "metadata": {
        "id": "pcuWZIXkWp5a",
        "colab_type": "text"
      },
      "source": [
        "Then it converts a pandas DataFrame in order to allow grouping student counts by range of score values."
      ]
    },
    {
      "cell_type": "code",
      "metadata": {
        "id": "H_Foum99WqJH",
        "colab_type": "code",
        "colab": {}
      },
      "source": [
        "df = pd.DataFrame({'students': students, 'scores': scores})"
      ],
      "execution_count": 0,
      "outputs": []
    },
    {
      "cell_type": "markdown",
      "metadata": {
        "id": "Q1UkUNKoXGrO",
        "colab_type": "text"
      },
      "source": [
        "Determines the ranges. Lower limit is excluding, upper limit is including."
      ]
    },
    {
      "cell_type": "code",
      "metadata": {
        "id": "EG01ElVbXHbM",
        "colab_type": "code",
        "colab": {}
      },
      "source": [
        "bins_list = [19,29,39,49,59,69,79,89,100]"
      ],
      "execution_count": 0,
      "outputs": []
    },
    {
      "cell_type": "markdown",
      "metadata": {
        "id": "5SSZbBwZXKff",
        "colab_type": "text"
      },
      "source": [
        "Counts the students in the ranges of scores."
      ]
    },
    {
      "cell_type": "code",
      "metadata": {
        "id": "ZSbt6FzLXJse",
        "colab_type": "code",
        "colab": {
          "base_uri": "https://localhost:8080/",
          "height": 170
        },
        "outputId": "4c6f00a2-943c-4c82-c750-a60a62675350"
      },
      "source": [
        "students_count = pd.cut(df.scores, bins=bins_list).value_counts(sort=False)\n",
        "print(students_count)"
      ],
      "execution_count": 133,
      "outputs": [
        {
          "output_type": "stream",
          "text": [
            "(19, 29]     11\n",
            "(29, 39]      3\n",
            "(39, 49]      1\n",
            "(49, 59]      3\n",
            "(59, 69]      4\n",
            "(69, 79]     12\n",
            "(79, 89]      8\n",
            "(89, 100]     8\n",
            "Name: scores, dtype: int64\n"
          ],
          "name": "stdout"
        }
      ]
    },
    {
      "cell_type": "code",
      "metadata": {
        "id": "sj7WHVn24IfB",
        "colab_type": "code",
        "colab": {
          "base_uri": "https://localhost:8080/",
          "height": 410
        },
        "outputId": "99496142-d280-4207-e04b-04cce4dd26b1"
      },
      "source": [
        "fig, ax = plt.subplots(figsize=(8, 4))\n",
        "n, bins, patches = ax.hist([students_count, scores], bins=bins_list)\n",
        "ax.set_title('Student Frequency In Range of Scores')\n",
        "ax.set_xlabel('Test Scores')\n",
        "ax.set_ylabel('Student Count')\n",
        "plt.show()"
      ],
      "execution_count": 134,
      "outputs": [
        {
          "output_type": "display_data",
          "data": {
            "image/png": "[encoded data removed]",
            "text/plain": [
              "<Figure size 800x400 with 1 Axes>"
            ]
          },
          "metadata": {
            "tags": []
          }
        }
      ]
    },
    {
      "cell_type": "markdown",
      "metadata": {
        "id": "gL9ewkYLXxYA",
        "colab_type": "text"
      },
      "source": [
        "In terms of **Probability Mass Function:**\n",
        "\n",
        "All the possible values that X random variable can have: \n",
        "\n",
        "**X** = { (19, 29], (29, 39], (39, 49], (49, 59], (59, 69], (69, 79], (79, 89], (89, 100] } \n",
        "\n",
        "*Example* : X(x=(29, 39]) = 0.06"
      ]
    },
    {
      "cell_type": "code",
      "metadata": {
        "id": "dzXqcE-fZMIl",
        "colab_type": "code",
        "colab": {
          "base_uri": "https://localhost:8080/",
          "height": 461
        },
        "outputId": "42e11652-7c70-428c-f2c0-3a5d1a115384"
      },
      "source": [
        "fig, ax = plt.subplots(figsize=(8, 4))\n",
        "normalized_students_count = [students / sum(students_count) for students in students_count]\n",
        "print('sum(',normalized_students_count, ') = ', sum(normalized_students_count))\n",
        "n, bins, patches = ax.hist([students_count, scores], bins=bins_list, density=True, color=['yellow', 'blue'])\n",
        "ax.set_title('Probability Mass Function')\n",
        "ax.set_xlabel('Test Scores')\n",
        "ax.set_ylabel('Probability')\n",
        "plt.show()"
      ],
      "execution_count": 138,
      "outputs": [
        {
          "output_type": "stream",
          "text": [
            "sum( [0.22, 0.06, 0.02, 0.06, 0.08, 0.24, 0.16, 0.16] ) =  1.0\n"
          ],
          "name": "stdout"
        },
        {
          "output_type": "stream",
          "text": [
            "/usr/local/lib/python3.6/dist-packages/numpy/lib/histograms.py:893: RuntimeWarning: invalid value encountered in true_divide\n",
            "  return n/db/n.sum(), bin_edges\n"
          ],
          "name": "stderr"
        },
        {
          "output_type": "display_data",
          "data": {
            "image/png": "[encoded data removed]",
            "text/plain": [
              "<Figure size 800x400 with 1 Axes>"
            ]
          },
          "metadata": {
            "tags": []
          }
        }
      ]
    },
    {
      "cell_type": "markdown",
      "metadata": {
        "id": "CiCkh_bP0n0U",
        "colab_type": "text"
      },
      "source": [
        "Source : https://www.statisticshowto.datasciencecentral.com/probability-mass-function-pmf/"
      ]
    }
  ]
}