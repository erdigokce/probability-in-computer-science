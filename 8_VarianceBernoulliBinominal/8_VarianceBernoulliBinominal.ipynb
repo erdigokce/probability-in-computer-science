{
  "nbformat": 4,
  "nbformat_minor": 0,
  "metadata": {
    "colab": {
      "name": "8_VarianceBernoulliBinominal.ipynb",
      "version": "0.3.2",
      "provenance": [],
      "collapsed_sections": [],
      "include_colab_link": true
    },
    "kernelspec": {
      "name": "python3",
      "display_name": "Python 3"
    }
  },
  "cells": [
    {
      "cell_type": "markdown",
      "metadata": {
        "id": "view-in-github",
        "colab_type": "text"
      },
      "source": [
        "<a href=\"https://colab.research.google.com/github/erdigokce/probability-in-computer-science/blob/master/8_VarianceBernoulliBinominal/8_VarianceBernoulliBinominal.ipynb\" target=\"_parent\"><img src=\"https://colab.research.google.com/assets/colab-badge.svg\" alt=\"Open In Colab\"/></a>"
      ]
    },
    {
      "cell_type": "markdown",
      "metadata": {
        "id": "fluMccumcLS6",
        "colab_type": "text"
      },
      "source": [
        "# Variance\n",
        "\n",
        "Variance is a formal quantification of **spread** of the data.\n",
        "\n",
        "If **X** is a random variable with mean **µ** then the variance of X, denoted **Var(X)** is: \n",
        "\n",
        "\\begin{equation*}\n",
        "\\sigma^2 = Var(X) = E[(X–µ)^2] = E[X^2]−E[X]^2\n",
        "\\end{equation*}"
      ]
    },
    {
      "cell_type": "code",
      "metadata": {
        "id": "fl4EdhZyk0Fs",
        "colab_type": "code",
        "colab": {}
      },
      "source": [
        "import math"
      ],
      "execution_count": 0,
      "outputs": []
    },
    {
      "cell_type": "code",
      "metadata": {
        "id": "aEWesm8Jio0b",
        "colab_type": "code",
        "colab": {}
      },
      "source": [
        "def E(X):\n",
        "  prb = 1 / len(X)\n",
        "  sum = 0\n",
        "  for i in range(0, len(X)): \n",
        "      sum += (X[i] * prb)  \n",
        "  return float(sum) \n",
        "  \n",
        "def Var(X):\n",
        "  return E([ x**2 for x in X]) - math.pow(E(X), 2)"
      ],
      "execution_count": 0,
      "outputs": []
    },
    {
      "cell_type": "markdown",
      "metadata": {
        "id": "kk_jsWM0fPsm",
        "colab_type": "text"
      },
      "source": [
        "**Example 1**\n",
        "\n",
        "Let X = value on roll of a 6 sided die. Find $E[X^2]$, $E[X]^2$ and $Var(X)$."
      ]
    },
    {
      "cell_type": "code",
      "metadata": {
        "id": "QHiPL3Z8k4Wo",
        "colab_type": "code",
        "colab": {}
      },
      "source": [
        "X = [1, 2, 3, 4, 5, 6]"
      ],
      "execution_count": 0,
      "outputs": []
    },
    {
      "cell_type": "markdown",
      "metadata": {
        "id": "pp_OKJCJijqD",
        "colab_type": "text"
      },
      "source": [
        "\\begin{equation*}\n",
        "E[X] = (1) \\frac16 + (2) \\frac16 + (3) \\frac16 + (4)\\frac16 + (5) \\frac16 + (6)\\frac16 =\\frac72 \\\\\n",
        "\\end{equation*}"
      ]
    },
    {
      "cell_type": "code",
      "metadata": {
        "id": "SBIojgBmik7J",
        "colab_type": "code",
        "colab": {
          "base_uri": "https://localhost:8080/",
          "height": 34
        },
        "outputId": "20bf9dfc-4c28-462f-fa43-5e73f174c860"
      },
      "source": [
        "print('E(X) = ', E(X))"
      ],
      "execution_count": 58,
      "outputs": [
        {
          "output_type": "stream",
          "text": [
            "E(X) =  3.5\n"
          ],
          "name": "stdout"
        }
      ]
    },
    {
      "cell_type": "markdown",
      "metadata": {
        "id": "jOaPdAgGia5z",
        "colab_type": "text"
      },
      "source": [
        "\\begin{equation*}\n",
        "E[X]^2 = (\\frac72)^2 = \\frac{49}4 \\\\\n",
        "\\end{equation*}"
      ]
    },
    {
      "cell_type": "code",
      "metadata": {
        "id": "5qvIBWgOlYRk",
        "colab_type": "code",
        "colab": {
          "base_uri": "https://localhost:8080/",
          "height": 34
        },
        "outputId": "85793e0b-b1f6-4b5e-b11b-ae6b59d38afe"
      },
      "source": [
        "print('E(X)^2 = ', math.pow(E(X), 2))"
      ],
      "execution_count": 59,
      "outputs": [
        {
          "output_type": "stream",
          "text": [
            "E(X)^2 =  12.25\n"
          ],
          "name": "stdout"
        }
      ]
    },
    {
      "cell_type": "markdown",
      "metadata": {
        "id": "rzmJKefLiboE",
        "colab_type": "text"
      },
      "source": [
        "\\begin{equation*}\n",
        "E[X^2] = (1^2) \\frac16 + (2^2) \\frac16 + (3^2) \\frac16 + (4^2)\\frac16 + (5^2) \\frac16 + (6^2)\\frac16 =\\frac{91}6 \\\\\n",
        "\\end{equation*}"
      ]
    },
    {
      "cell_type": "code",
      "metadata": {
        "id": "lV6HHz8ycJoV",
        "colab_type": "code",
        "colab": {
          "base_uri": "https://localhost:8080/",
          "height": 34
        },
        "outputId": "26defd12-90a2-418c-fdfa-882945cc9043"
      },
      "source": [
        "print('E(X^2) = ', E([ x**2 for x in X]))"
      ],
      "execution_count": 60,
      "outputs": [
        {
          "output_type": "stream",
          "text": [
            "E(X^2) =  15.166666666666666\n"
          ],
          "name": "stdout"
        }
      ]
    },
    {
      "cell_type": "markdown",
      "metadata": {
        "id": "w7HLQo20iWyC",
        "colab_type": "text"
      },
      "source": [
        "\\begin{equation*}\n",
        "Var(X) = E[X^2]−E[X]^2 = \\frac{91}6 - \\frac{49}4  = 2.9166\n",
        "\\end{equation*}"
      ]
    },
    {
      "cell_type": "code",
      "metadata": {
        "id": "GbAuMlwcmWes",
        "colab_type": "code",
        "colab": {
          "base_uri": "https://localhost:8080/",
          "height": 34
        },
        "outputId": "3e014d4b-a943-4943-95d7-405833487ebf"
      },
      "source": [
        "print('Var(X) = ', Var(X))"
      ],
      "execution_count": 61,
      "outputs": [
        {
          "output_type": "stream",
          "text": [
            "Var(X) =  2.916666666666666\n"
          ],
          "name": "stdout"
        }
      ]
    },
    {
      "cell_type": "markdown",
      "metadata": {
        "id": "KMuPbTH7m_BM",
        "colab_type": "text"
      },
      "source": [
        "# Bernoulli\n",
        "\n",
        "A Bernoulli random variable is random indicator variable (1 = success, 0 = failure) that represents whether\n",
        "or not an experiment with probability p resulted in success. Some example uses include a coin flip, random\n",
        "binary digit, whether a disk drive crashed or whether someone likes a Netflix movie."
      ]
    },
    {
      "cell_type": "markdown",
      "metadata": {
        "id": "-URCt-nqnQtR",
        "colab_type": "text"
      },
      "source": [
        "Let **X** be a Bernoulli Random Variable $X ∼ Ber(p)$.\n",
        "\\begin{equation*}\n",
        "E[X] = p \\\\\n",
        "Var(X) = p(1− p) \\\\\n",
        "\\end{equation*}"
      ]
    },
    {
      "cell_type": "markdown",
      "metadata": {
        "id": "K1g16RaDn9QT",
        "colab_type": "text"
      },
      "source": [
        "# Binomial\n",
        "A Binomial random variable is random variable that represents the number of successes in $n$ successive\n",
        "independent trials of a Bernoulli experiment. Some example uses include # of heads in n coin flips, # dist\n",
        "drives crashed in 1000 computer cluster."
      ]
    },
    {
      "cell_type": "markdown",
      "metadata": {
        "id": "Qd9rFgimoLJ7",
        "colab_type": "text"
      },
      "source": [
        "Let **X** be a Binomial Random Variable. $X ∼ Bin(n, p)$ where $p$ is the probability of success in a given trial.\n",
        "\n",
        "\\begin{equation*}\n",
        "P(X = k)   = {n \\choose k} p^k (1-p)^{ n-k} \\\\\n",
        "E[X] = np \\\\\n",
        "Var(X) = np(1-p)\n",
        "\\end{equation*}\n"
      ]
    },
    {
      "cell_type": "code",
      "metadata": {
        "id": "KQkHOOegqLOr",
        "colab_type": "code",
        "colab": {}
      },
      "source": [
        "def X_Bin(n, k, p):\n",
        "  choose = math.factorial(n) / (math.factorial(k) * math.factorial(n - k))\n",
        "  return choose * math.pow(p,k) * math.pow((1 - p), n-k)"
      ],
      "execution_count": 0,
      "outputs": []
    },
    {
      "cell_type": "markdown",
      "metadata": {
        "id": "Lx7r48rIpFIk",
        "colab_type": "text"
      },
      "source": [
        "**Example 2**\n",
        "Let **X** = number of heads after a coin is flipped three times. $X ∼ Bin(3,0.5)$. What is the probability of\n",
        "different outcomes?\n"
      ]
    },
    {
      "cell_type": "markdown",
      "metadata": {
        "id": "hHuUKjzns7Sg",
        "colab_type": "text"
      },
      "source": [
        "Random variables : X = [0,1,2,3]"
      ]
    },
    {
      "cell_type": "code",
      "metadata": {
        "id": "N-u63TDWs9wk",
        "colab_type": "code",
        "colab": {}
      },
      "source": [
        "X = [0,1,2,3]"
      ],
      "execution_count": 0,
      "outputs": []
    },
    {
      "cell_type": "markdown",
      "metadata": {
        "id": "1ODm177BtBQw",
        "colab_type": "text"
      },
      "source": [
        "Probability $p$ = 0.5"
      ]
    },
    {
      "cell_type": "code",
      "metadata": {
        "id": "KEiwMtTFtIiQ",
        "colab_type": "code",
        "colab": {}
      },
      "source": [
        "probability = 0.5"
      ],
      "execution_count": 0,
      "outputs": []
    },
    {
      "cell_type": "markdown",
      "metadata": {
        "id": "t2h1myJetQvX",
        "colab_type": "text"
      },
      "source": [
        "Experiment count $n$ = 3"
      ]
    },
    {
      "cell_type": "code",
      "metadata": {
        "id": "C4ig4MKztU1d",
        "colab_type": "code",
        "colab": {}
      },
      "source": [
        "n = 3"
      ],
      "execution_count": 0,
      "outputs": []
    },
    {
      "cell_type": "markdown",
      "metadata": {
        "id": "rQUDTujHtOQ5",
        "colab_type": "text"
      },
      "source": [
        "$P(X = 0)   = {3 \\choose 0} p^0 (1-p)^3 = \\frac18$ \\\\\n",
        "$P(X = 1)   = {3 \\choose 1} p^1 (1-p)^2 = \\frac38$ \\\\\n",
        "$P(X = 2)   = {3 \\choose 2} p^2 (1-p)^1 = \\frac38$ \\\\\n",
        "$P(X = 3)   = {3 \\choose 3} p^3 (1-p)^0 = \\frac18$ "
      ]
    },
    {
      "cell_type": "code",
      "metadata": {
        "id": "i_UH1YBJpELm",
        "colab_type": "code",
        "colab": {
          "base_uri": "https://localhost:8080/",
          "height": 85
        },
        "outputId": "2de384a0-c4e6-45c1-c315-381594e7a002"
      },
      "source": [
        "for x in X:\n",
        "  print('P(X = ', x, ') = ', X_Bin(n, x, probability))"
      ],
      "execution_count": 66,
      "outputs": [
        {
          "output_type": "stream",
          "text": [
            "P(X =  0 ) =  0.125\n",
            "P(X =  1 ) =  0.375\n",
            "P(X =  2 ) =  0.375\n",
            "P(X =  3 ) =  0.125\n"
          ],
          "name": "stdout"
        }
      ]
    },
    {
      "cell_type": "markdown",
      "metadata": {
        "id": "dAqFKNkqtbN4",
        "colab_type": "text"
      },
      "source": [
        "*Source* : [Piech, C., 2017, Variance, Bernoulli and Binomials](https://web.stanford.edu/class/cs109/lectureNotes/7%20-%20Variance.pdf)"
      ]
    }
  ]
}